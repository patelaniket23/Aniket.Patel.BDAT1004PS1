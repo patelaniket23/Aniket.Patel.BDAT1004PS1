{
 "cells": [
  {
   "cell_type": "markdown",
   "metadata": {},
   "source": [
    "# Problem Set 1 :-"
   ]
  },
  {
   "cell_type": "markdown",
   "metadata": {},
   "source": [
    "## Question 6 :-"
   ]
  },
  {
   "cell_type": "markdown",
   "metadata": {},
   "source": [
    "You can turn a word into pig-Latin using the following two rules (simplified):\n",
    "• If the word starts with a consonant, move that letter to the end and append\n",
    "'ay'. For example, 'happy' becomes 'appyhay' and 'pencil' becomes 'encilpay'.\n",
    "• If the word starts with a vowel, simply append 'way' to the end of the word.\n",
    "For example, 'enter' becomes 'enterway' and 'other' becomes 'otherway' . For\n",
    "our purposes, there are 5 vowels: a, e, i, o, u (so we count y as a consonant).\n",
    "Write a function pig() that takes a word (i.e., a string) as input and returns its pigLatin form. Your function should still work if the input word contains upper case\n",
    "characters. Your output should always be lower case however.\n",
    ">>> pig('happy')\n",
    "'appyhay'\n",
    ">>> pig('Enter')\n",
    "'enterway' "
   ]
  },
  {
   "cell_type": "code",
   "execution_count": 30,
   "metadata": {},
   "outputs": [],
   "source": [
    "vowels = ['a','e','i','o','u','E']\n",
    "\n",
    "def pig(word):\n",
    "\n",
    " length = len(word)\n",
    "\n",
    " first = word[0]\n",
    "\n",
    " if first in vowels:\n",
    "\n",
    "  print(word.lower() + \"way\")\n",
    "\n",
    " else:\n",
    "\n",
    "  print(word[1:length].lower() + word[0].lower() + \"ay\")"
   ]
  },
  {
   "cell_type": "code",
   "execution_count": 31,
   "metadata": {},
   "outputs": [
    {
     "name": "stdout",
     "output_type": "stream",
     "text": [
      "appyhay\n"
     ]
    }
   ],
   "source": [
    "pig('Happy')"
   ]
  },
  {
   "cell_type": "code",
   "execution_count": 32,
   "metadata": {},
   "outputs": [
    {
     "name": "stdout",
     "output_type": "stream",
     "text": [
      "enterway\n"
     ]
    }
   ],
   "source": [
    "pig('Enter')"
   ]
  },
  {
   "cell_type": "markdown",
   "metadata": {},
   "source": [
    "## Question 8:-"
   ]
  },
  {
   "cell_type": "markdown",
   "metadata": {},
   "source": [
    "Write a function curconv() that takes as input:\n",
    "1. a currency represented using a string (e.g., 'JPY' for the Japanese Yen or\n",
    "'EUR' for the Euro)\n",
    "2. an amount\n",
    "and then converts and returns the amount in US dollars.\n",
    ">>> curconv('EUR', 100)\n",
    "122.96544\n",
    ">>> curconv('JPY', 100)\n",
    "1.241401\n",
    "The currency rates you will need are stored in file currencies.txt:\n",
    "AUD 1.0345157 Australian Dollar\n",
    "CHF 1.0237414 Swiss Franc\n",
    "CNY 0.1550176 Chinese Yuan\n",
    "DKK 0.1651442 Danish Krone\n",
    "EUR 1.2296544 Euro\n",
    "GBP 1.5550989 British Pound\n",
    "HKD 0.1270207 Hong Kong Dollar\n",
    "INR 0.0177643 Indian Rupee\n",
    "JPY 0.01241401 Japanese Yen\n",
    "MXN 0.0751848 Mexican Peso\n",
    "MYR 0.3145411 Malaysian Ringgit\n",
    "NOK 0.1677063 Norwegian Krone\n",
    "NZD 0.8003591 New Zealand Dollar\n",
    "PHP 0.0233234 Philippine Peso\n",
    "SEK 0.148269 Swedish Krona\n",
    "SGD 0.788871 Singapore Dollar\n",
    "THB 0.0313789 Thai Baht"
   ]
  },
  {
   "cell_type": "code",
   "execution_count": 78,
   "metadata": {},
   "outputs": [],
   "source": [
    "def curconv(currency, entered_amount):\n",
    "    us_dollars = 0\n",
    "    if currency == 'AUD':\n",
    "        us_dollars = entered_amount * 1.0345157\n",
    "    elif currency == 'CNY':\n",
    "        us_dollars = entered_amount * 0.1550176\n",
    "    elif currency == 'CHF':\n",
    "        us_dollars = entered_amount * 1.0237414\n",
    "    elif currency == 'DKK':\n",
    "        us_dollars = entered_amount * 0.1651442\n",
    "    elif currency == 'EUR':\n",
    "        us_dollars = entered_amount * 1.2296544\n",
    "    elif currency == 'GBP':\n",
    "        us_dollars = entered_amount * 1.5550989\n",
    "    elif currency == 'HKD':\n",
    "        us_dollars = entered_amount * 0.1270207 \n",
    "    elif currency == 'INR':\n",
    "        us_dollars = entered_amount * 0.0177643\n",
    "    elif currency == 'JPY':\n",
    "        us_dollars = entered_amount * 0.01241401\n",
    "    elif currency == 'MXN':\n",
    "        us_dollars = entered_amount * 0.0751848\n",
    "    elif currency == 'MYR':\n",
    "        us_dollars = entered_amount * 0.3145411\n",
    "    elif currency == 'NOK':\n",
    "        us_dollars = entered_amount * 0.1677063\n",
    "    elif currency == 'NZD':\n",
    "        us_dollars = entered_amount * 0.8003591\n",
    "    elif currency == 'PHP':\n",
    "        us_dollars = entered_amount * 0.0233234\n",
    "    elif currency == 'SEK':\n",
    "        us_dollars = entered_amount * 0.148269\n",
    "    elif currency == 'SGD':\n",
    "        us_dollars = entered_amount * 0.788871\n",
    "    elif currency == 'THB':\n",
    "        us_dollars = entered_amount * 0.0313789\n",
    "    else:\n",
    "        print('Error')\n",
    "        \n",
    "    print(us_dollars)"
   ]
  },
  {
   "cell_type": "code",
   "execution_count": 79,
   "metadata": {},
   "outputs": [
    {
     "name": "stdout",
     "output_type": "stream",
     "text": [
      "122.96544\n"
     ]
    }
   ],
   "source": [
    "curconv('EUR', 100)"
   ]
  },
  {
   "cell_type": "code",
   "execution_count": 80,
   "metadata": {},
   "outputs": [
    {
     "name": "stdout",
     "output_type": "stream",
     "text": [
      "1.241401\n"
     ]
    }
   ],
   "source": [
    "curconv('JPY', 100)"
   ]
  },
  {
   "cell_type": "markdown",
   "metadata": {},
   "source": [
    "## Question 9:-"
   ]
  },
  {
   "cell_type": "markdown",
   "metadata": {},
   "source": [
    "Each of the following will cause an exception (an error). Identify what type of\n",
    "exception each will cause.\n",
    "\n",
    "-> Trying to add incompatible variables, as in\n",
    "adding 6 + ‘a’"
   ]
  },
  {
   "cell_type": "code",
   "execution_count": 91,
   "metadata": {},
   "outputs": [
    {
     "name": "stdout",
     "output_type": "stream",
     "text": [
      "Exception :  unsupported operand type(s) for +: 'int' and 'str'\n"
     ]
    }
   ],
   "source": [
    "try:\n",
    "    result = 6 + 'a'\n",
    "except Exception as error:\n",
    "    result = error\n",
    "print('Exception : ', result)"
   ]
  },
  {
   "cell_type": "markdown",
   "metadata": {},
   "source": [
    "-> Referring to the 12th item of a list that has only 10\n",
    "items"
   ]
  },
  {
   "cell_type": "code",
   "execution_count": 92,
   "metadata": {},
   "outputs": [
    {
     "name": "stdout",
     "output_type": "stream",
     "text": [
      "Exception :  list index out of range\n"
     ]
    }
   ],
   "source": [
    "l1 = [1,2,3,4,5,6,7,8,9,10]\n",
    "try:\n",
    "    result = l1[12]\n",
    "except Exception as error:\n",
    "    result = error\n",
    "print('Exception : ', result)"
   ]
  },
  {
   "cell_type": "markdown",
   "metadata": {},
   "source": [
    "-> Using a value that is out of range for a function’s\n",
    "input, such as calling math.sqrt(-1.0)"
   ]
  },
  {
   "cell_type": "code",
   "execution_count": 93,
   "metadata": {},
   "outputs": [
    {
     "name": "stdout",
     "output_type": "stream",
     "text": [
      "Exception :  math domain error\n"
     ]
    }
   ],
   "source": [
    "import math\n",
    "try:\n",
    "    result = math.sqrt(-1.0)\n",
    "except Exception as error:\n",
    "    result = error\n",
    "print('Exception : ', result)"
   ]
  },
  {
   "cell_type": "markdown",
   "metadata": {},
   "source": [
    "-> Using an undeclared variable, such as print(x)\n",
    "when x has not been defined "
   ]
  },
  {
   "cell_type": "code",
   "execution_count": 94,
   "metadata": {},
   "outputs": [
    {
     "name": "stdout",
     "output_type": "stream",
     "text": [
      "Exception :  name 'x' is not defined\n"
     ]
    }
   ],
   "source": [
    "try:\n",
    "    result = print(x)\n",
    "except Exception as error:\n",
    "    result = error\n",
    "print('Exception : ', result)"
   ]
  },
  {
   "cell_type": "code",
   "execution_count": 95,
   "metadata": {},
   "outputs": [
    {
     "name": "stdout",
     "output_type": "stream",
     "text": [
      "Exception :  [Errno 2] No such file or directory: 'undefined.txt'\n"
     ]
    }
   ],
   "source": [
    "try:\n",
    "    result = open('undefined.txt')\n",
    "except Exception as error:\n",
    "    result = error\n",
    "print('Exception : ', result)"
   ]
  }
 ],
 "metadata": {
  "kernelspec": {
   "display_name": "Python 3",
   "language": "python",
   "name": "python3"
  },
  "language_info": {
   "codemirror_mode": {
    "name": "ipython",
    "version": 3
   },
   "file_extension": ".py",
   "mimetype": "text/x-python",
   "name": "python",
   "nbconvert_exporter": "python",
   "pygments_lexer": "ipython3",
   "version": "3.8.5"
  }
 },
 "nbformat": 4,
 "nbformat_minor": 4
}

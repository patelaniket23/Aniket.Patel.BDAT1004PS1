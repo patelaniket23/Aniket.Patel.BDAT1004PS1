{
 "cells": [
  {
   "cell_type": "markdown",
   "metadata": {},
   "source": [
    "# Question 2:-"
   ]
  },
  {
   "cell_type": "markdown",
   "metadata": {},
   "source": [
    "## Write (and evaluate) C# expressions that answer these questions:"
   ]
  },
  {
   "cell_type": "markdown",
   "metadata": {},
   "source": [
    "a. How many letters are there in 'Supercalifragilisticexpialidocious'?"
   ]
  },
  {
   "cell_type": "code",
   "execution_count": 18,
   "metadata": {
    "scrolled": true
   },
   "outputs": [
    {
     "name": "stdout",
     "output_type": "stream",
     "text": [
      "34\n"
     ]
    }
   ],
   "source": [
    "var stringName = \"Supercalifragilisticexpialidocious\";\n",
    "int length = stringName.Length;\n",
    "Console.WriteLine(length);"
   ]
  },
  {
   "cell_type": "markdown",
   "metadata": {},
   "source": [
    "b. Does 'Supercalifragilisticexpialidocious' contain 'ice' as a substring?"
   ]
  },
  {
   "cell_type": "code",
   "execution_count": 80,
   "metadata": {},
   "outputs": [
    {
     "name": "stdout",
     "output_type": "stream",
     "text": [
      "'ice' is in the string 'Supercalifragilisticexpialidocious': True\n"
     ]
    }
   ],
   "source": [
    "//https://docs.microsoft.com/en-us/dotnet/api/system.string.contains?view=net-5.0\n",
    "string s1 = \"Supercalifragilisticexpialidocious\";\n",
    "string s2 = \"ice\";\n",
    "bool b = s1.Contains(s2);\n",
    "Console.WriteLine(\"'{0}' is in the string '{1}': {2}\", s2, s1, b);"
   ]
  },
  {
   "cell_type": "markdown",
   "metadata": {},
   "source": [
    "c. Which of the following words is the longest:\n",
    "Supercalifragilisticexpialidocious, Honorificabilitudinitatibus, or\n",
    "Bababadalgharaghtakamminarronnkonn? "
   ]
  },
  {
   "cell_type": "code",
   "execution_count": 79,
   "metadata": {},
   "outputs": [
    {
     "name": "stdout",
     "output_type": "stream",
     "text": [
      "34\n",
      "27\n",
      "34\n",
      "Third String is longest.\n"
     ]
    }
   ],
   "source": [
    "var s1 = \"Supercalifragilisticexpialidocious\";\n",
    "int length1 = s1.Length;\n",
    "Console.WriteLine(length1);\n",
    "var s2 = \"Honorificabilitudinitatibus\";\n",
    "int length2 = s2.Length;\n",
    "Console.WriteLine(length2);\n",
    "var s3 = \"Bababadalgharaghtakamminarronnkonn\";\n",
    "int length3 = s3.Length;\n",
    "Console.WriteLine(length3);\n",
    "if (length1 > length2)\n",
    "    {\n",
    "        if (length1 > length3)\n",
    "        {\n",
    "            Console.WriteLine(\"First String is longest.\");\n",
    "        }\n",
    "        else\n",
    "        {\n",
    "            Console.WriteLine(\"Third String is longest.\");\n",
    "        }\n",
    "    }\n",
    "    else if (length2 > length3)\n",
    "        Console.WriteLine(\"Second String is longest.\");\n",
    "    else\n",
    "        Console.WriteLine(\"Third String is longest.\");\n"
   ]
  },
  {
   "cell_type": "markdown",
   "metadata": {},
   "source": [
    "## Question 4:-"
   ]
  },
  {
   "cell_type": "markdown",
   "metadata": {},
   "source": [
    "Write a program in C# Sharp to separate odd and even integers in separate arrays.\n",
    "Go to the editor\n",
    "Test Data :\n",
    "Input the number of elements to be stored in the array :5\n",
    "Input 5 elements in the array :\n",
    "element - 0 : 25\n",
    "element - 1 : 47\n",
    "element - 2 : 42\n",
    "element - 3 : 56\n",
    "element - 4 : 32"
   ]
  },
  {
   "cell_type": "code",
   "execution_count": 73,
   "metadata": {},
   "outputs": [
    {
     "name": "stdout",
     "output_type": "stream",
     "text": [
      "\n",
      "\n",
      "Separate odd and even integers in separate arrays:\n",
      "------------------------------------------------------\n",
      "Input the number of elements to be stored in the array :\n",
      "Input 0 elements in the array :\n",
      "element - 0 : \n",
      "element - 1 : \n",
      "element - 2 : \n",
      "element - 3 : \n",
      "element - 4 : \n",
      "\n",
      "The Even elements are : \n",
      "\n",
      "The Odd elements are :\n",
      "\n",
      "\n"
     ]
    }
   ],
   "source": [
    "//https://www.w3resource.com/csharp-exercises/array/csharp-array-exercise-10.php\n",
    "\n",
    "int[] arr1 = new int[10];\n",
    "    int[] arr2 = new int[10];\n",
    "    int[] arr3 = new int[10];\n",
    "    int i,j=0,k=0,n;\n",
    "    \n",
    "    \n",
    "       Console.Write(\"\\n\\nSeparate odd and even integers in separate arrays:\\n\");\n",
    "       Console.Write(\"------------------------------------------------------\\n\");\n",
    "\n",
    "       Console.Write(\"Input the number of elements to be stored in the array :\\n\");\n",
    "       n = Convert.ToInt32(Console.ReadLine());    \n",
    "   \n",
    "       Console.Write(\"Input {0} elements in the array :\\n\",n);\n",
    "       for(i=0;i<5;i++)\n",
    "            {\n",
    "          Console.Write(\"element - {0} : \\n\",i);\n",
    "          arr1[i] = Convert.ToInt32(Console.ReadLine());   \n",
    "        }\n",
    "\n",
    "    for(i=0;i<n;i++)\n",
    "    {\n",
    "    if (arr1[i]%2 == 0)\n",
    "    {\n",
    "       arr2[j] = arr1[i];\n",
    "       j++;\n",
    "    }\n",
    "    else\n",
    "    {\n",
    "       arr3[k] = arr1[i];\n",
    "       k++;\n",
    "    }\n",
    "    }\n",
    "\n",
    "    Console.Write(\"\\nThe Even elements are : \\n\");\n",
    "    for(i=0;i<j;i++)\n",
    "    {\n",
    "    Console.Write(\"{0} \",arr2[i]);\n",
    "    }\n",
    "\n",
    "    Console.Write(\"\\nThe Odd elements are :\\n\");\n",
    "    for(i=0;i<k;i++)\n",
    "    {\n",
    "    Console.Write(\"{0} \", arr3[i]);\n",
    "    }\n",
    "    Console.Write(\"\\n\\n\");"
   ]
  }
 ],
 "metadata": {
  "kernelspec": {
   "display_name": ".NET (C#)",
   "language": "C#",
   "name": ".net-csharp"
  },
  "language_info": {
   "file_extension": ".cs",
   "mimetype": "text/x-csharp",
   "name": "C#",
   "pygments_lexer": "csharp",
   "version": "8.0"
  }
 },
 "nbformat": 4,
 "nbformat_minor": 4
}
